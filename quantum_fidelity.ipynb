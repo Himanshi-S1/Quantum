{
  "nbformat": 4,
  "nbformat_minor": 0,
  "metadata": {
    "colab": {
      "provenance": []
    },
    "kernelspec": {
      "name": "python3",
      "display_name": "Python 3"
    },
    "language_info": {
      "name": "python"
    }
  },
  "cells": [
    {
      "cell_type": "markdown",
      "source": [
        "**Quantum** **Fidelity**"
      ],
      "metadata": {
        "id": "PIo1zlpOnPyN"
      }
    },
    {
      "cell_type": "markdown",
      "source": [
        "Quantum fidelity is a measure of how closely two quantum states resemble each other. In other words, Quantum fidelity quantifies the similarity between two density matrices, which can represent two different quantum states.\n",
        "\n",
        "*The quantum fidelity takes values between 0 and 1.*"
      ],
      "metadata": {
        "id": "r4vR-iSxnXDF"
      }
    },
    {
      "cell_type": "markdown",
      "source": [
        "**Qiskit offers several methods for measuring fidelity, as available in qiskit.quantum_info.state_fidelity.**\n",
        "\n",
        "**State fidelit**y measures between two quantum states (such as statevectors or density matrix objects).\n",
        "\n",
        "**Process fidelity** measures the noise within a quantum channel or operator.\n",
        "\n",
        "**Average gate fidelity** measures the fidelity of multiple gates within a quantum channel. Note, average gate fidelity requires the channel and target operator to have the same dimensions and input/output dimensions."
      ],
      "metadata": {
        "id": "cuzyx_2Kql-N"
      }
    },
    {
      "cell_type": "code",
      "source": [
        "pip install qiskit"
      ],
      "metadata": {
        "id": "EFNugGtOrQUQ",
        "colab": {
          "base_uri": "https://localhost:8080/"
        },
        "outputId": "29583387-f589-4f26-b73a-67de848ef7e9"
      },
      "execution_count": 1,
      "outputs": [
        {
          "output_type": "stream",
          "name": "stdout",
          "text": [
            "Collecting qiskit\n",
            "  Downloading qiskit-0.44.2-py3-none-any.whl (8.2 kB)\n",
            "Collecting qiskit-terra==0.25.2.1 (from qiskit)\n",
            "  Downloading qiskit_terra-0.25.2.1-cp38-abi3-manylinux_2_17_x86_64.manylinux2014_x86_64.whl (6.2 MB)\n",
            "\u001b[2K     \u001b[90m━━━━━━━━━━━━━━━━━━━━━━━━━━━━━━━━━━━━━━━━\u001b[0m \u001b[32m6.2/6.2 MB\u001b[0m \u001b[31m17.5 MB/s\u001b[0m eta \u001b[36m0:00:00\u001b[0m\n",
            "\u001b[?25hCollecting rustworkx>=0.13.0 (from qiskit-terra==0.25.2.1->qiskit)\n",
            "  Downloading rustworkx-0.13.2-cp310-cp310-manylinux_2_17_x86_64.manylinux2014_x86_64.whl (2.0 MB)\n",
            "\u001b[2K     \u001b[90m━━━━━━━━━━━━━━━━━━━━━━━━━━━━━━━━━━━━━━━━\u001b[0m \u001b[32m2.0/2.0 MB\u001b[0m \u001b[31m54.3 MB/s\u001b[0m eta \u001b[36m0:00:00\u001b[0m\n",
            "\u001b[?25hRequirement already satisfied: numpy>=1.17 in /usr/local/lib/python3.10/dist-packages (from qiskit-terra==0.25.2.1->qiskit) (1.23.5)\n",
            "Collecting ply>=3.10 (from qiskit-terra==0.25.2.1->qiskit)\n",
            "  Downloading ply-3.11-py2.py3-none-any.whl (49 kB)\n",
            "\u001b[2K     \u001b[90m━━━━━━━━━━━━━━━━━━━━━━━━━━━━━━━━━━━━━━━━\u001b[0m \u001b[32m49.6/49.6 kB\u001b[0m \u001b[31m4.5 MB/s\u001b[0m eta \u001b[36m0:00:00\u001b[0m\n",
            "\u001b[?25hRequirement already satisfied: psutil>=5 in /usr/local/lib/python3.10/dist-packages (from qiskit-terra==0.25.2.1->qiskit) (5.9.5)\n",
            "Requirement already satisfied: scipy>=1.5 in /usr/local/lib/python3.10/dist-packages (from qiskit-terra==0.25.2.1->qiskit) (1.11.3)\n",
            "Requirement already satisfied: sympy>=1.3 in /usr/local/lib/python3.10/dist-packages (from qiskit-terra==0.25.2.1->qiskit) (1.12)\n",
            "Collecting dill>=0.3 (from qiskit-terra==0.25.2.1->qiskit)\n",
            "  Downloading dill-0.3.7-py3-none-any.whl (115 kB)\n",
            "\u001b[2K     \u001b[90m━━━━━━━━━━━━━━━━━━━━━━━━━━━━━━━━━━━━━━\u001b[0m \u001b[32m115.3/115.3 kB\u001b[0m \u001b[31m11.5 MB/s\u001b[0m eta \u001b[36m0:00:00\u001b[0m\n",
            "\u001b[?25hRequirement already satisfied: python-dateutil>=2.8.0 in /usr/local/lib/python3.10/dist-packages (from qiskit-terra==0.25.2.1->qiskit) (2.8.2)\n",
            "Collecting stevedore>=3.0.0 (from qiskit-terra==0.25.2.1->qiskit)\n",
            "  Downloading stevedore-5.1.0-py3-none-any.whl (49 kB)\n",
            "\u001b[2K     \u001b[90m━━━━━━━━━━━━━━━━━━━━━━━━━━━━━━━━━━━━━━━━\u001b[0m \u001b[32m49.6/49.6 kB\u001b[0m \u001b[31m6.1 MB/s\u001b[0m eta \u001b[36m0:00:00\u001b[0m\n",
            "\u001b[?25hCollecting symengine<0.10,>=0.9 (from qiskit-terra==0.25.2.1->qiskit)\n",
            "  Downloading symengine-0.9.2-cp310-cp310-manylinux2010_x86_64.whl (37.5 MB)\n",
            "\u001b[2K     \u001b[90m━━━━━━━━━━━━━━━━━━━━━━━━━━━━━━━━━━━━━━━━\u001b[0m \u001b[32m37.5/37.5 MB\u001b[0m \u001b[31m26.9 MB/s\u001b[0m eta \u001b[36m0:00:00\u001b[0m\n",
            "\u001b[?25hRequirement already satisfied: typing-extensions in /usr/local/lib/python3.10/dist-packages (from qiskit-terra==0.25.2.1->qiskit) (4.5.0)\n",
            "Requirement already satisfied: six>=1.5 in /usr/local/lib/python3.10/dist-packages (from python-dateutil>=2.8.0->qiskit-terra==0.25.2.1->qiskit) (1.16.0)\n",
            "Collecting pbr!=2.1.0,>=2.0.0 (from stevedore>=3.0.0->qiskit-terra==0.25.2.1->qiskit)\n",
            "  Downloading pbr-5.11.1-py2.py3-none-any.whl (112 kB)\n",
            "\u001b[2K     \u001b[90m━━━━━━━━━━━━━━━━━━━━━━━━━━━━━━━━━━━━━━\u001b[0m \u001b[32m112.7/112.7 kB\u001b[0m \u001b[31m14.0 MB/s\u001b[0m eta \u001b[36m0:00:00\u001b[0m\n",
            "\u001b[?25hRequirement already satisfied: mpmath>=0.19 in /usr/local/lib/python3.10/dist-packages (from sympy>=1.3->qiskit-terra==0.25.2.1->qiskit) (1.3.0)\n",
            "Installing collected packages: ply, symengine, rustworkx, pbr, dill, stevedore, qiskit-terra, qiskit\n",
            "Successfully installed dill-0.3.7 pbr-5.11.1 ply-3.11 qiskit-0.44.2 qiskit-terra-0.25.2.1 rustworkx-0.13.2 stevedore-5.1.0 symengine-0.9.2\n"
          ]
        }
      ]
    },
    {
      "cell_type": "code",
      "source": [
        "#measuring state fidelity\n",
        "from qiskit import qiskit, QuantumCircuit\n",
        "from qiskit.quantum_info import state_fidelity, average_gate_fidelity, process_fidelity\n",
        "\n",
        "qc1 = QuantumCircuit(1)\n",
        "qc2 = QuantumCircuit(1)\n",
        "\n",
        "qc1.s(0)\n",
        "# qc1.h(1)\n",
        "qc2.z(0)\n",
        "\n",
        "Aer=qiskit.BasicAer\n",
        "backend = Aer.get_backend('statevector_simulator')\n",
        "\n",
        "sv1 = qiskit.execute(qc1, backend).result().get_statevector(qc1)\n",
        "sv2 = qiskit.execute(qc2, backend).result().get_statevector(qc2)\n",
        "\n",
        "print(sv1,sv2)\n",
        "print(state_fidelity(sv1, sv2)) # for quantum states only state vector\n",
        "print(average_gate_fidelity(qc1,qc2))\n",
        "print(process_fidelity(qc1,qc2))\n"
      ],
      "metadata": {
        "colab": {
          "base_uri": "https://localhost:8080/"
        },
        "id": "cMD5o6qMnO18",
        "outputId": "16396da0-0526-451e-a3f9-b6d83b5da45f"
      },
      "execution_count": 2,
      "outputs": [
        {
          "output_type": "stream",
          "name": "stdout",
          "text": [
            "[1.+0.j 0.+0.j] [1.+0.j 0.+0.j]\n",
            "1.0\n",
            "0.6666666666666666\n",
            "0.5\n"
          ]
        },
        {
          "output_type": "stream",
          "name": "stderr",
          "text": [
            "/usr/local/lib/python3.10/dist-packages/qiskit/quantum_info/operators/measures.py:396: UserWarning: Treating array input as a SuperOp object\n",
            "  warnings.warn(f\"Treating array input as a {fallback_class.__name__} object\")\n",
            "/usr/local/lib/python3.10/dist-packages/qiskit/quantum_info/operators/measures.py:396: UserWarning: Treating array input as a Operator object\n",
            "  warnings.warn(f\"Treating array input as a {fallback_class.__name__} object\")\n"
          ]
        }
      ]
    },
    {
      "cell_type": "markdown",
      "source": [
        "**Average_gate_fidelity & Process fidelity**\n",
        "\n",
        "For two operators, let's say A and B, a global phase difference between them means that they can be related by a complex phase factor:\n",
        "\n",
        "B = e^(iθ) * A,\n",
        "\n",
        "where \"e^(iθ)\" represents the complex phase factor."
      ],
      "metadata": {
        "id": "ZLViDAXTqJ3a"
      }
    },
    {
      "cell_type": "code",
      "source": [
        "from qiskit.quantum_info.operators import Operator\n",
        "from qiskit.circuit.library import SGate, ZGate\n",
        "\n",
        "import numpy as np\n",
        "\n",
        "gate1 = Operator(SGate())\n",
        "gate2 = np.exp(1j / 2) * gate1\n",
        "\n",
        "# gate1 = Operator(SGate())\n",
        "# gate2 = Operator(ZGate())\n",
        "\n",
        "#for quantum operator\n",
        "print(average_gate_fidelity(gate1, gate2))\n",
        "print(process_fidelity(gate1, gate2))"
      ],
      "metadata": {
        "colab": {
          "base_uri": "https://localhost:8080/"
        },
        "id": "tt74VlGgs6bJ",
        "outputId": "2645cb88-ff82-492b-91ce-9db455ae5ee3"
      },
      "execution_count": 3,
      "outputs": [
        {
          "output_type": "stream",
          "name": "stdout",
          "text": [
            "1.0\n",
            "1.0\n"
          ]
        }
      ]
    },
    {
      "cell_type": "code",
      "source": [
        "qc1 = QuantumCircuit(1)\n",
        "qc2 = QuantumCircuit(1)\n",
        "\n",
        "qc1.h(0)\n",
        "qc1.s(0)\n",
        "\n",
        "qc2.h(0)\n",
        "qc2.t(0)\n",
        "qc2.t(0)\n",
        "\n",
        "print(average_gate_fidelity(qc1, qc2))\n",
        "print(process_fidelity(qc1, qc2))"
      ],
      "metadata": {
        "colab": {
          "base_uri": "https://localhost:8080/"
        },
        "id": "BDdwlufMrGQL",
        "outputId": "aa160cf2-3d44-4389-a51b-4e116e40b0c4"
      },
      "execution_count": 4,
      "outputs": [
        {
          "output_type": "stream",
          "name": "stdout",
          "text": [
            "0.9999999999999997\n",
            "0.9999999999999994\n"
          ]
        }
      ]
    },
    {
      "cell_type": "markdown",
      "source": [
        "Mathematics: Mathematically, the quantum fidelity between two density matrices ρ and σ is defined as:\n",
        "\n",
        "F(ρ, σ) = tr(√(√ρσ√ρ)),\n",
        "\n",
        "where tr represents the trace of a matrix and √ represents the square root of a matrix."
      ],
      "metadata": {
        "id": "PUkE-FoSosUt"
      }
    },
    {
      "cell_type": "markdown",
      "source": [
        "**Application** Quantum fidelity has various applications in quantum information theory, quantum computing, and quantum communication. For instance, it's used to quantify the accuracy of quantum operations, to assess the performance of quantum error correction codes, and to evaluate the quality of quantum communication channels. It's an important tool in understanding the behavior of quantum systems and their interactions."
      ],
      "metadata": {
        "id": "DoHtc8lmoL8I"
      }
    }
  ]
}